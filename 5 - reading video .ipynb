{
 "cells": [
  {
   "cell_type": "code",
   "execution_count": 4,
   "id": "60a62838-ec8e-4afe-952b-b4c29b58cfc2",
   "metadata": {},
   "outputs": [],
   "source": [
    "import cv2 \n",
    "import time\n",
    "\n",
    "cap = cv2.VideoCapture('usamagray.mp4')\n",
    "# as VideoCapture command will not rise error if there is no video so it's better to check out the availablity of video\n",
    "\n",
    "if cap.isOpened == False :\n",
    "    print ( ' Error file not found or Wrong Codes ' ) \n",
    "    \n",
    "while cap.isOpened():\n",
    "    ret , frame = cap.read()\n",
    "    \n",
    "    if ret == True :\n",
    "        \n",
    "        # to show in normal record time\n",
    "        time.sleep(1/20)\n",
    "        cv2.imshow('frame' , frame)\n",
    "        \n",
    "        if cv2.waitKey(10) & 0xFF == 27 :\n",
    "            # after 10 ms if 'Esc' pressed down then break\n",
    "            break\n",
    "            \n",
    "    else:\n",
    "        break      \n",
    "\n",
    "cap.release()\n",
    "cv2.destroyAllWindows()\n"
   ]
  },
  {
   "cell_type": "code",
   "execution_count": null,
   "id": "2a637644-2e6e-4241-9bf9-cfbaf3ed7f11",
   "metadata": {},
   "outputs": [],
   "source": []
  }
 ],
 "metadata": {
  "kernelspec": {
   "display_name": "Python 3 (ipykernel)",
   "language": "python",
   "name": "python3"
  },
  "language_info": {
   "codemirror_mode": {
    "name": "ipython",
    "version": 3
   },
   "file_extension": ".py",
   "mimetype": "text/x-python",
   "name": "python",
   "nbconvert_exporter": "python",
   "pygments_lexer": "ipython3",
   "version": "3.8.11"
  }
 },
 "nbformat": 4,
 "nbformat_minor": 5
}
