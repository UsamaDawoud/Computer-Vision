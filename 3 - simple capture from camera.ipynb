{
 "cells": [
  {
   "cell_type": "code",
   "execution_count": 1,
   "id": "32043f0c-25ce-450a-bae4-d1dc15a79331",
   "metadata": {},
   "outputs": [],
   "source": [
    "import numpy as np\n",
    "import cv2"
   ]
  },
  {
   "cell_type": "code",
   "execution_count": 2,
   "id": "0392502f-0df6-4f1b-8167-3a10b82a5d5d",
   "metadata": {},
   "outputs": [],
   "source": [
    "cap = cv2.VideoCapture(0)\n",
    "\n",
    "while True:\n",
    "    ret , ved = cap.read()\n",
    "    cv2.imshow(\"frame1\" , ved)\n",
    "    if cv2.waitKey(1) & 0xFF == 27 :\n",
    "        break \n",
    "        \n",
    "cap.release()        \n",
    "cv2.destroyAllWindows()"
   ]
  },
  {
   "cell_type": "code",
   "execution_count": 1,
   "id": "e781e849-4d6c-452a-9c99-473c83a3eafc",
   "metadata": {},
   "outputs": [],
   "source": [
    "#  Simple program for using the laptop camera which will be base for many applications \n",
    "# In this program I used laptop camera to get the media but in other applications it can use any video or photo or any input from another cameras same way as I will continue coding  \n"
   ]
  },
  {
   "cell_type": "code",
   "execution_count": null,
   "id": "bb5c715f-cf49-44e0-b814-40b3245e5fa4",
   "metadata": {},
   "outputs": [],
   "source": []
  }
 ],
 "metadata": {
  "kernelspec": {
   "display_name": "Python 3 (ipykernel)",
   "language": "python",
   "name": "python3"
  },
  "language_info": {
   "codemirror_mode": {
    "name": "ipython",
    "version": 3
   },
   "file_extension": ".py",
   "mimetype": "text/x-python",
   "name": "python",
   "nbconvert_exporter": "python",
   "pygments_lexer": "ipython3",
   "version": "3.8.11"
  }
 },
 "nbformat": 4,
 "nbformat_minor": 5
}
