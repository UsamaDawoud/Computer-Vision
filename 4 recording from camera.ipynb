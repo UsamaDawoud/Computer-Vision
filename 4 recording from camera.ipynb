{
 "cells": [
  {
   "cell_type": "code",
   "execution_count": 2,
   "id": "34fe9ca3-4eec-47c6-a064-322dcaabf01a",
   "metadata": {},
   "outputs": [],
   "source": [
    "import cv2\n",
    "\n",
    "\n",
    "cap = cv2.VideoCapture(0)\n",
    "\n",
    "width = int(cap.get(cv2.CAP_PROP_FRAME_WIDTH))\n",
    "height = int(cap.get(cv2.CAP_PROP_FRAME_HEIGHT))\n",
    "\n",
    "writer = cv2.VideoWriter('usamagray00.mp4' , cv2.VideoWriter_fourcc(*'DIVX') , 20, (width,height))\n",
    "\n",
    "while True:\n",
    "    ret , record = cap.read()\n",
    "    gray_rec = cv2.cvtColor(record , cv2.COLOR_BGR2GRAY)\n",
    "    \n",
    "    \n",
    "    writer.write(record)\n",
    "    cv2.imshow('frame', gray_rec)\n",
    "    \n",
    "    if cv2.waitKey(1) & 0xFF == 27 :\n",
    "        break\n",
    "        \n",
    "        \n",
    "cap.release()\n",
    "writer.release()\n",
    "cv2.destroyAllWindows()\n",
    "\n",
    "\n",
    "\n",
    "\n",
    "\n"
   ]
  },
  {
   "cell_type": "code",
   "execution_count": null,
   "id": "9a6d6109-4cf6-42f4-af9a-6a5e532e89e8",
   "metadata": {},
   "outputs": [],
   "source": []
  }
 ],
 "metadata": {
  "kernelspec": {
   "display_name": "Python 3 (ipykernel)",
   "language": "python",
   "name": "python3"
  },
  "language_info": {
   "codemirror_mode": {
    "name": "ipython",
    "version": 3
   },
   "file_extension": ".py",
   "mimetype": "text/x-python",
   "name": "python",
   "nbconvert_exporter": "python",
   "pygments_lexer": "ipython3",
   "version": "3.8.11"
  }
 },
 "nbformat": 4,
 "nbformat_minor": 5
}
